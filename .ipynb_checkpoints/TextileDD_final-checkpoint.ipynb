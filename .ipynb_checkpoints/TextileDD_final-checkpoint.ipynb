{
 "cells": [
  {
   "cell_type": "markdown",
   "metadata": {},
   "source": [
    "#  Detection Defect Textile"
   ]
  },
  {
   "cell_type": "code",
   "execution_count": 1,
   "metadata": {
    "colab": {
     "base_uri": "https://localhost:8080/",
     "height": 54
    },
    "colab_type": "code",
    "id": "4uv_3Sz7OE5i",
    "outputId": "155854f6-ba8c-4d63-e994-b9aedd43090d",
    "scrolled": false
   },
   "outputs": [
    {
     "name": "stderr",
     "output_type": "stream",
     "text": [
      "/usr/local/lib/python3.6/dist-packages/statsmodels/tools/_testing.py:19: FutureWarning: pandas.util.testing is deprecated. Use the functions in the public API at pandas.testing instead.\n",
      "  import pandas.util.testing as tm\n"
     ]
    }
   ],
   "source": [
    "import torch\n",
    "import os\n",
    "import h5py\n",
    "import numpy as np\n",
    "import pandas as pd\n",
    "\n",
    "from tqdm import tqdm\n",
    "from tqdm.notebook import tqdm as tqnb\n",
    "\n",
    "\n",
    "from PIL import Image\n",
    "from torchvision import transforms, models\n",
    "from sklearn.metrics import f1_score, confusion_matrix, accuracy_score\n",
    "from torch.utils.data import Dataset, DataLoader\n",
    "import torch.nn as nn\n",
    "import torch.nn.functional as F\n",
    "\n",
    "import copy\n",
    "from itertools import permutations\n",
    "from collections import Counter\n",
    "\n",
    "import matplotlib.pyplot as plt\n",
    "import seaborn as sns\n",
    "\n",
    "SEED = 228\n",
    "np.random.seed(SEED)\n",
    "torch.manual_seed(SEED)\n",
    "torch.cuda.manual_seed(SEED)\n",
    "torch.backends.cudnn.deterministic = True"
   ]
  },
  {
   "cell_type": "code",
   "execution_count": 2,
   "metadata": {
    "colab": {
     "base_uri": "https://localhost:8080/",
     "height": 35
    },
    "colab_type": "code",
    "id": "5TrUP_eEOE_B",
    "outputId": "95a40edd-1a6b-46fd-cf3f-781ea26432d7",
    "scrolled": true
   },
   "outputs": [
    {
     "data": {
      "text/plain": [
       "device(type='cuda')"
      ]
     },
     "execution_count": 2,
     "metadata": {
      "tags": []
     },
     "output_type": "execute_result"
    }
   ],
   "source": [
    "# Устройство, на котором будут вычисления\n",
    "\n",
    "DEVICE = torch.device('cuda' if torch.cuda.is_available() else 'cpu')\n",
    "DEVICE"
   ]
  },
  {
   "cell_type": "code",
   "execution_count": 0,
   "metadata": {
    "colab": {},
    "colab_type": "code",
    "id": "ymRMvL6WGk3B"
   },
   "outputs": [],
   "source": [
    "WHERE = {\"home\":'/home/ochinchin/ml/Textile Defect Detection/datatextile/',\n",
    "         \"dimas\":'../data/',\n",
    "         \"colab\": '/content/drive/My Drive/textile/datatextile',\n",
    "         \"kaggle\": '../input/textiledefectdetection'\n",
    "         }"
   ]
  },
  {
   "cell_type": "code",
   "execution_count": 0,
   "metadata": {
    "colab": {},
    "colab_type": "code",
    "id": "1ckXpbk4Nwt7"
   },
   "outputs": [],
   "source": [
    "DATA_ROOT_FOLDER = WHERE[\"colab\"] # Путь Датасетов"
   ]
  },
  {
   "cell_type": "code",
   "execution_count": 5,
   "metadata": {
    "colab": {
     "base_uri": "https://localhost:8080/",
     "height": 35
    },
    "colab_type": "code",
    "id": "aJnDbYE6WwqP",
    "outputId": "22f69ff7-f12b-4085-c52e-81a0f15f5c8f"
   },
   "outputs": [
    {
     "data": {
      "text/plain": [
       "48000"
      ]
     },
     "execution_count": 5,
     "metadata": {
      "tags": []
     },
     "output_type": "execute_result"
    }
   ],
   "source": [
    "# Количество изображений на train dataset\n",
    "df = pd.read_csv(os.path.join(DATA_ROOT_FOLDER, 'train64.csv'))\n",
    "size = df.shape[0]\n",
    "size"
   ]
  },
  {
   "cell_type": "code",
   "execution_count": 0,
   "metadata": {
    "colab": {},
    "colab_type": "code",
    "id": "548O-2d2Ft1E"
   },
   "outputs": [],
   "source": [
    "val_split = .2 # На валидацию 20%, остальное на обучение  "
   ]
  },
  {
   "cell_type": "code",
   "execution_count": 0,
   "metadata": {
    "colab": {},
    "colab_type": "code",
    "id": "ZuwuyM2bWeXt"
   },
   "outputs": [],
   "source": [
    "def fit_epoch(model, train_loader, criterion, optimizer):\n",
    "    \"\"\" Обучение\n",
    "    \"\"\"\n",
    "\n",
    "    running_loss = 0.0\n",
    "    running_corrects = 0\n",
    "    processed_data = 0\n",
    "    \n",
    "    model = model.to(DEVICE) \n",
    "    model.train()                 # Перевод модели в режим тренировки\n",
    "    for inputs, labels in tqnb(train_loader):\n",
    "        inputs = inputs.to(DEVICE)\n",
    "        labels = labels.to(DEVICE)\n",
    "        optimizer.zero_grad()     # Обнуление значения градиента\n",
    "\n",
    "        outputs = model(inputs)   \n",
    "        loss = criterion(outputs, labels) # Подсчёт потери \n",
    "        loss.backward()                   # Обратное распространие ошибки (Градиент)\n",
    "        optimizer.step()                  # Шаг в сторону антиградиента\n",
    "\n",
    "        preds = torch.argmax(outputs, 1)  # Предсказание класса\n",
    "        running_loss += loss.item() * inputs.size(0)          \n",
    "        running_corrects += torch.sum(preds == labels.data)\n",
    "        processed_data += inputs.size(0)\n",
    "            \n",
    "            \n",
    "    print(\"lr: \", get_lr(optimizer))        \n",
    "    train_loss = running_loss / processed_data\n",
    "    train_acc = running_corrects.cpu().numpy() / processed_data\n",
    "    return train_loss, train_acc"
   ]
  },
  {
   "cell_type": "code",
   "execution_count": 0,
   "metadata": {
    "colab": {},
    "colab_type": "code",
    "id": "xAfGDoavWeX0"
   },
   "outputs": [],
   "source": [
    "def eval_epoch(model, val_loader, criterion):\n",
    "    \"\"\" Валидация\n",
    "    \"\"\"\n",
    "\n",
    "    running_loss = 0.0\n",
    "    running_corrects = 0\n",
    "    processed_size = 0\n",
    "    \n",
    "    model = model.to(DEVICE)\n",
    "    model.eval()  # режим валидации\n",
    "    for inputs, labels in tqnb(val_loader):\n",
    "        inputs = inputs.to(DEVICE)\n",
    "        labels = labels.to(DEVICE)\n",
    "\n",
    "        with torch.no_grad():\n",
    "            # Предсказание класса без подсчета градиента\n",
    "            outputs = model(inputs)\n",
    "            loss = criterion(outputs, labels)\n",
    "            preds = torch.argmax(outputs, 1)\n",
    "\n",
    "        running_loss += loss.item() * inputs.size(0)\n",
    "        running_corrects += torch.sum(preds == labels.data)\n",
    "        processed_size += inputs.size(0)\n",
    "            \n",
    "    # Среднее значения потери и точноси\n",
    "    val_loss = running_loss / processed_size\n",
    "    val_acc = running_corrects.double() / processed_size\n",
    "    return val_loss, val_acc"
   ]
  },
  {
   "cell_type": "code",
   "execution_count": 0,
   "metadata": {
    "colab": {},
    "colab_type": "code",
    "id": "kvACDh0pWeX6"
   },
   "outputs": [],
   "source": [
    "def get_lr(optimizer):\n",
    "    \"\"\" learning rate \"\"\"\n",
    "    for param_group in optimizer.param_groups:\n",
    "        return param_group['lr']"
   ]
  },
  {
   "cell_type": "code",
   "execution_count": 0,
   "metadata": {
    "colab": {},
    "colab_type": "code",
    "id": "G87B8VNaWeYE"
   },
   "outputs": [],
   "source": [
    "def plot_stat_acc(history, figsize=(15, 9)):\n",
    "    loss, acc, val_loss, val_acc = zip(*history)\n",
    "    plt.figure(figsize=figsize)\n",
    "    plt.plot(acc, label=\"train_acc\")\n",
    "    plt.plot(val_acc, label=\"val_acc\")\n",
    "    plt.legend(loc='best')\n",
    "    plt.xlabel(\"epochs\")\n",
    "    plt.ylabel(\"accuracy\")\n",
    "    plt.grid()\n",
    "    plt.show()"
   ]
  },
  {
   "cell_type": "code",
   "execution_count": 0,
   "metadata": {
    "colab": {},
    "colab_type": "code",
    "id": "qmdvDcE5WeYJ"
   },
   "outputs": [],
   "source": [
    "def plot_stat_loss(history, figsize=(15, 9)):\n",
    "    loss, acc, val_loss, val_acc = zip(*history)\n",
    "    plt.figure(figsize=figsize)\n",
    "    plt.plot(loss, label=\"train_loss\")\n",
    "    plt.plot(val_loss, label=\"val_loss\")\n",
    "    plt.legend(loc='best')\n",
    "    plt.xlabel(\"epochs\")\n",
    "    plt.ylabel(\"loss\")\n",
    "    plt.grid()\n",
    "    plt.show()\n"
   ]
  },
  {
   "cell_type": "code",
   "execution_count": 0,
   "metadata": {
    "colab": {},
    "colab_type": "code",
    "id": "PohjF3pUWeYU"
   },
   "outputs": [],
   "source": [
    "def plot_cm(actual_labels, labels_pred, encoder):\n",
    "    \"\"\"\" Confusion Matrix \"\"\"\n",
    "    df_cm = pd.DataFrame(confusion_matrix(actual_labels, labels_pred, normalize='true'), \n",
    "                          encoder, \n",
    "                          encoder\n",
    "                        )\n",
    "    plt.figure(figsize=(10, 7))\n",
    "    plt.title(\"Confusion Matrix\")\n",
    "    df_cm.index.name = 'Actual'\n",
    "    df_cm.columns.name = 'Predicted'\n",
    "    sns.set(font_scale=1) # for label size\n",
    "    sns.heatmap(df_cm, annot=True, cmap=sns.color_palette(\"Blues\"), annot_kws={\"size\": 12}) # font size\n",
    "    plt.show()"
   ]
  },
  {
   "cell_type": "code",
   "execution_count": 0,
   "metadata": {
    "colab": {},
    "colab_type": "code",
    "id": "fS_BtkUwWeYX"
   },
   "outputs": [],
   "source": [
    "def predict_on_ds(loader, model, DEVICE):\n",
    "    ''' Предсказание на датасете '''\n",
    "    actual_labels = list()\n",
    "    labels_pred = list()\n",
    "    \n",
    "    model = model.to(DEVICE)\n",
    "    model.eval()\n",
    "    for inputs, labels in loader:\n",
    "        inputs = inputs.to(DEVICE)\n",
    "\n",
    "        with torch.no_grad():\n",
    "            outputs = model(inputs)\n",
    "            pred = torch.argmax(outputs, 1)\n",
    "        \n",
    "        actual_labels.extend(labels.numpy())\n",
    "        labels_pred.extend(pred.cpu().numpy())\n",
    "    return np.array(actual_labels), np.array(labels_pred)"
   ]
  },
  {
   "cell_type": "code",
   "execution_count": 0,
   "metadata": {
    "colab": {},
    "colab_type": "code",
    "id": "RjaT4Xj3WeYb"
   },
   "outputs": [],
   "source": [
    "def accurancy_for_each_class(actual_labels, labels_pred, n_classes, encoder):\n",
    "    \"\"\" Точность по классам \"\"\"\n",
    "    labels_correct = [0 for i in range(n_classes)]\n",
    "    labels_total = [0 for i in range(n_classes)]\n",
    "\n",
    "    compare = (actual_labels == labels_pred)\n",
    "    \n",
    "    for i in range(len(labels_pred)):\n",
    "        label = labels_pred[i]            \n",
    "        labels_correct[label] += compare[i].item()\n",
    "        labels_total[label] += 1\n",
    "    \n",
    "    \n",
    "    for i in range(n_classes):\n",
    "        print('Accuracy of %5s : %2d %%' % (\n",
    "            (encoder[i], (100 * labels_correct[i] / labels_total[i]) if labels_total[i] != 0 else -1)))"
   ]
  },
  {
   "cell_type": "code",
   "execution_count": 0,
   "metadata": {
    "colab": {},
    "colab_type": "code",
    "id": "BJrlkicrWeYf"
   },
   "outputs": [],
   "source": [
    "def accurancy_for_goodbad(actual_labels, labels_pred):\n",
    "    \"\"\" Точность по классу good и остальных \"\"\"\n",
    "    labels_correct = [0]*2 # count\n",
    "    labels_total = [0]*2 # count\n",
    "    enc = ['good', 'bad']\n",
    "\n",
    "\n",
    "    compare = (actual_labels == labels_pred)\n",
    "    \n",
    "    for i in range(len(labels_pred)):\n",
    "        label = labels_pred[i]\n",
    "        if label == 0:\n",
    "          labels_correct[label] += compare[i].item()\n",
    "          labels_total[label] += 1\n",
    "        else:\n",
    "          labels_correct[1] += compare[i].item()\n",
    "          labels_total[1] += 1\n",
    "    \n",
    "    \n",
    "    for i in range(len(enc)):\n",
    "        print('Accuracy of %5s : %2d %%' % (\n",
    "            (enc[i], (100 * labels_correct[i] / labels_total[i]) if labels_total[i] != 0 else -1)))"
   ]
  },
  {
   "cell_type": "code",
   "execution_count": 0,
   "metadata": {
    "colab": {},
    "colab_type": "code",
    "id": "CQTSsKHEWeYm"
   },
   "outputs": [],
   "source": [
    "def check_params(model):\n",
    "    ''' Проверка на весов на обучение (Не замороженные веса) '''\n",
    "    params_to_update = model.parameters()\n",
    "    print(\"Params to learn:\")\n",
    "\n",
    "    params_to_update = []\n",
    "    for name, param in model.named_parameters():\n",
    "        if param.requires_grad == True:\n",
    "            params_to_update.append(param)\n",
    "            print(\"\\t\", name)"
   ]
  },
  {
   "cell_type": "code",
   "execution_count": 0,
   "metadata": {
    "colab": {},
    "colab_type": "code",
    "id": "EwAMeylOgtLV"
   },
   "outputs": [],
   "source": [
    "def plot_all(*histories):\n",
    "    \"\"\" История статистик по эпохам \"\"\"\n",
    "    for history in histories:\n",
    "        plot_stat_loss(history)\n",
    "        plot_stat_acc(history)"
   ]
  },
  {
   "cell_type": "code",
   "execution_count": 0,
   "metadata": {
    "colab": {},
    "colab_type": "code",
    "id": "kxH5kiHhWeYt"
   },
   "outputs": [],
   "source": [
    "def show_scores(loader, net, DEVICE, n_classes, encoder):\n",
    "    \"\"\" Вывод score \"\"\"\n",
    "\n",
    "    actual_lbl, pred_lbl = predict_on_ds(loader, net, DEVICE)\n",
    "\n",
    "    accurancy_for_each_class(actual_lbl, pred_lbl, n_classes, encoder)\n",
    "\n",
    "    accurancy_for_goodbad(actual_lbl, pred_lbl)\n",
    "\n",
    "    print('accuracy_score: ', accuracy_score(actual_lbl, pred_lbl))\n",
    "\n",
    "    print('f1_score: ', f1_score(actual_lbl, pred_lbl, average='macro'))\n",
    "\n",
    "    plot_cm(actual_lbl, pred_lbl, encoder)"
   ]
  },
  {
   "cell_type": "code",
   "execution_count": 0,
   "metadata": {
    "colab": {},
    "colab_type": "code",
    "id": "9OUxUx572Fh7"
   },
   "outputs": [],
   "source": [
    "class TextureDataset(Dataset):\n",
    "    \"\"\" Класс dataset для loader \"\"\"\n",
    "\n",
    "    filenames = {'train': dict(csv=('train64.csv'), h5=('train64.h5')),\n",
    "                 'test': dict(csv=('test64.csv'), h5=('test64.h5'))}\n",
    "    \n",
    "    def __init__(self, root_folder, mode='train', val_split=val_split, transformation=None, SEED=SEED):\n",
    "        if os.path.exists(root_folder):\n",
    "            self.root_folder = root_folder\n",
    "        else:\n",
    "            raise IOError('The path of the directory is incorrect or doesn\\'t exist')\n",
    "            \n",
    "        self.mode = mode\n",
    "        self.SEED = SEED\n",
    "        self.val_split = val_split\n",
    "        self.infos, self.data = self._load_data()\n",
    "        self.transformation = transforms.Compose([transforms.ToTensor()]) if transformation is None else transformation\n",
    "    \n",
    "    def __len__(self):\n",
    "        return self.infos.shape[0]\n",
    "        \n",
    "    def __getitem__(self, index):\n",
    "        info = self.infos.iloc[index]\n",
    "        indication_value = int(info['indication_value']) \n",
    "\n",
    "        img = self.data[index]\n",
    "        return self.transformation(img), indication_value\n",
    "    \n",
    "    def _load_data(self):\n",
    "        if 'train' == self.mode:\n",
    "            filenames_mode = self.filenames['train']\n",
    "            df = pd.read_csv(os.path.join(self.root_folder, filenames_mode['csv']))\n",
    "            \n",
    "            infos = pd.DataFrame()\n",
    "            for i in range(6):\n",
    "                np.random.seed(self.SEED)\n",
    "                indices = np.array(df[df.indication_value == i].iloc[:int(8000*(1-self.val_split))].index)\n",
    "                np.random.shuffle(indices)\n",
    "                infos = infos.append(df.iloc[indices])\n",
    "        \n",
    "            data = None\n",
    "            with h5py.File(os.path.join(self.root_folder, filenames_mode['h5']), mode='r') as h5file:\n",
    "                data = h5file['images'][:]\n",
    "\n",
    "            return infos.reset_index(), data[infos.index.tolist()]\n",
    "        \n",
    "        elif 'val' == self.mode:\n",
    "            filenames_mode = self.filenames['train']\n",
    "            df = pd.read_csv(os.path.join(self.root_folder, filenames_mode['csv']))\n",
    "            \n",
    "            infos = pd.DataFrame()\n",
    "            for i in range(6):\n",
    "                np.random.seed(self.SEED)\n",
    "                indices = np.array(df[df.indication_value == i].iloc[int(8000*(1-self.val_split)):8000].index)\n",
    "                np.random.shuffle(indices)\n",
    "                infos = infos.append(df.iloc[indices])\n",
    "\n",
    "\n",
    "            data = None\n",
    "            with h5py.File(os.path.join(self.root_folder, filenames_mode['h5']), mode='r') as h5file:\n",
    "                data = h5file['images'][:]\n",
    "\n",
    "            return infos.reset_index(), data[infos.index.tolist()]\n",
    "        \n",
    "        elif 'test' == self.mode:\n",
    "            filenames_mode = self.filenames[self.mode]\n",
    "            infos = pd.read_csv(os.path.join(self.root_folder, filenames_mode['csv']))            \n",
    "            \n",
    "            data = None\n",
    "            with h5py.File(os.path.join(self.root_folder, filenames_mode['h5']), mode='r') as h5file:\n",
    "                data = h5file['images'][:]\n",
    "                \n",
    "            return infos, data\n",
    "        else:\n",
    "            raise IOError('change mode to [\"test\", \"train\", \"val\"]')                 \n",
    "    \n",
    "    @staticmethod\n",
    "    def get_indication_classes():\n",
    "        return ['good', 'color', 'cut',  'hole', 'thread', 'metal_contamination']\n",
    "    \n",
    "    @staticmethod\n",
    "    def compute_normalization_parameters(root):\n",
    "        \"\"\"Compute Mean and Std of image for image scaling\n",
    "        \"\"\"\n",
    "        dataset = TextureDataset(root_folder=root)\n",
    "        print(dataset.data.shape)\n",
    "        loader = DataLoader(dataset, batch_size=15, num_workers=4, shuffle=True)\n",
    "        mean = 0.\n",
    "        std = 0.\n",
    "        for images, _ in loader:\n",
    "            batch_samples = images.size(0) # batch size (the last batch can have smaller size!)\n",
    "            images = images.view(batch_samples, images.size(1), -1)\n",
    "            mean += images.mean(2).sum(0) # sum of means in channels\n",
    "            std += images.std(2).sum(0) # sum of stds in channels\n",
    "\n",
    "        mean /= len(loader.dataset) # mean of batchsum of means in channels\n",
    "        std /= len(loader.dataset) # mean of batchsum of stds in channels\n",
    "        \"\"\" Normalize the data as following:\n",
    "        transformation = transforms.Compose([transforms.ToTensor(), transforms.Normalize({mean}, {std} )])\n",
    "        this function return the object Normalize the new mean and std: transforms.Normalize({mean}, {std} )\n",
    "        \"\"\"\n",
    "        return transforms.Normalize(mean, std)"
   ]
  },
  {
   "cell_type": "code",
   "execution_count": 20,
   "metadata": {
    "colab": {
     "base_uri": "https://localhost:8080/",
     "height": 54
    },
    "colab_type": "code",
    "id": "9ztpNIhoWwqq",
    "outputId": "c5c2a379-e24c-445a-b65c-c6fdac366105"
   },
   "outputs": [
    {
     "name": "stdout",
     "output_type": "stream",
     "text": [
      "(38400, 64, 64, 1)\n"
     ]
    },
    {
     "data": {
      "text/plain": [
       "Normalize(mean=tensor([0.3290]), std=tensor([0.1260]))"
      ]
     },
     "execution_count": 20,
     "metadata": {
      "tags": []
     },
     "output_type": "execute_result"
    }
   ],
   "source": [
    "# Нормировка по каналам изображений\n",
    "\n",
    "norm = TextureDataset.compute_normalization_parameters(DATA_ROOT_FOLDER)\n",
    "norm"
   ]
  },
  {
   "cell_type": "code",
   "execution_count": 0,
   "metadata": {
    "colab": {},
    "colab_type": "code",
    "id": "yClr4beHWwqy"
   },
   "outputs": [],
   "source": [
    "# Аугментация\n",
    "\n",
    "data_transforms = {\n",
    "    \"train\": transforms.Compose([ transforms.ToTensor(),\n",
    "                                 transforms.ToPILImage(),\n",
    "                                 transforms.ColorJitter(brightness=0.5, contrast=0.5, saturation=0.5),\n",
    "                                 transforms.RandomRotation(20),\n",
    "                                 transforms.RandomHorizontalFlip(),\n",
    "                                 transforms.ToTensor(),\n",
    "                                 norm, \n",
    "                                 transforms.RandomErasing(0.3, value=0)\n",
    "                                 ]),\n",
    "    \"test_or_val\": transforms.Compose([transforms.ToTensor(),\n",
    "                                       norm\n",
    "                                      ])\n",
    "}"
   ]
  },
  {
   "cell_type": "markdown",
   "metadata": {
    "colab_type": "text",
    "id": "0K0Q09gasPA1"
   },
   "source": [
    "Аугментация нужна для регуляризации нашей сети, чтобы избежать переобучения"
   ]
  },
  {
   "cell_type": "code",
   "execution_count": 0,
   "metadata": {
    "colab": {},
    "colab_type": "code",
    "id": "pLFGFpI7PpxY",
    "scrolled": true
   },
   "outputs": [],
   "source": [
    "# Создание датасетов для загрузки в loader\n",
    "\n",
    "train_dataset = TextureDataset(root_folder=DATA_ROOT_FOLDER,\n",
    "                               mode='train',\n",
    "                               transformation=data_transforms[\"train\"])\n",
    "\n",
    "val_dataset = TextureDataset(root_folder=DATA_ROOT_FOLDER,\n",
    "                             mode='val', \n",
    "                             transformation=data_transforms[\"test_or_val\"])\n",
    "\n",
    "test_dataset = TextureDataset(root_folder=DATA_ROOT_FOLDER,\n",
    "                             mode='test',\n",
    "                             transformation=data_transforms[\"test_or_val\"])"
   ]
  },
  {
   "cell_type": "code",
   "execution_count": 23,
   "metadata": {
    "colab": {
     "base_uri": "https://localhost:8080/",
     "height": 35
    },
    "colab_type": "code",
    "id": "J3FL0pXyFxed",
    "outputId": "3023d7ba-b0d2-4def-cfca-d28ceacf8bef"
   },
   "outputs": [
    {
     "data": {
      "text/plain": [
       "['good', 'color', 'cut', 'hole', 'thread', 'metal_contamination']"
      ]
     },
     "execution_count": 23,
     "metadata": {
      "tags": []
     },
     "output_type": "execute_result"
    }
   ],
   "source": [
    "encoder = train_dataset.get_indication_classes()\n",
    "encoder"
   ]
  },
  {
   "cell_type": "code",
   "execution_count": 0,
   "metadata": {
    "colab": {},
    "colab_type": "code",
    "id": "oymVtmunF5th"
   },
   "outputs": [],
   "source": [
    "def train(train_loader, val_loader, model, criterion, epochs, gamma, step_size, lr=1e-3, weight_decay=4e-2):\n",
    "    ''' main train loop '''\n",
    "\n",
    "    history = []\n",
    "    # логирование по эпохам\n",
    "    log_template = \"\\nEpoch {ep:03d} train_loss: {t_loss:0.4f} val_loss {v_loss:0.4f} train_acc {t_acc:0.4f} val_acc {v_acc:0.4f}\"\n",
    "\n",
    "    with tqdm(desc=\"epoch\", total=epochs) as pbar_outer:\n",
    "        model = model.to(DEVICE)\n",
    "        opt = torch.optim.Adam(model.parameters(), lr=lr, weight_decay=weight_decay)       # Инициализация оптимизатора\n",
    "        scheduler = torch.optim.lr_scheduler.StepLR(opt, gamma=gamma, step_size=step_size) # планировщик для learning rate decay\n",
    "        \n",
    "        for epoch in range(epochs):\n",
    "            train_loss, train_acc = fit_epoch(model, train_loader, criterion, opt)         # Обучение\n",
    "            print(\"loss\", train_loss)\n",
    "            # print(\"lr: \", scheduler.get_last_lr())\n",
    "            \n",
    "            val_loss, val_acc = eval_epoch(model, val_loader, criterion)                   # Валидация\n",
    "            history.append((train_loss, train_acc, val_loss, val_acc))\n",
    "            \n",
    "            scheduler.step()\n",
    "            \n",
    "            pbar_outer.update(1)\n",
    "            tqdm.write(log_template.format(ep=epoch+1, t_loss=train_loss, v_loss=val_loss, t_acc=train_acc, v_acc=val_acc))\n",
    "            \n",
    "            if (epoch+1) % 5 == 0:\n",
    "                plot_stat_loss(history, figsize=(6, 4))\n",
    "                plot_stat_acc(history, figsize=(6, 4))\n",
    "                 \n",
    "    return history"
   ]
  },
  {
   "cell_type": "code",
   "execution_count": 0,
   "metadata": {
    "colab": {},
    "colab_type": "code",
    "id": "0ConEqn9xSPz"
   },
   "outputs": [],
   "source": [
    "batch_size = 1024"
   ]
  },
  {
   "cell_type": "code",
   "execution_count": 0,
   "metadata": {
    "colab": {},
    "colab_type": "code",
    "id": "JERe5ZRVgsZ1"
   },
   "outputs": [],
   "source": [
    "# Создание loaders, для прохождения по всему сету изображений с бачами\n",
    "\n",
    "train_loader = DataLoader(train_dataset, batch_size=batch_size, shuffle=True)\n",
    "val_loader = DataLoader(val_dataset, batch_size=batch_size, shuffle=True) \n",
    "\n",
    "test_loader = DataLoader(test_dataset, batch_size=batch_size) "
   ]
  },
  {
   "cell_type": "code",
   "execution_count": 0,
   "metadata": {
    "colab": {},
    "colab_type": "code",
    "id": "tDgcBfJc2ppg"
   },
   "outputs": [],
   "source": [
    "n_classes = len(TextureDataset.get_indication_classes())"
   ]
  },
  {
   "cell_type": "code",
   "execution_count": 0,
   "metadata": {
    "colab": {},
    "colab_type": "code",
    "id": "Bpcb2vvSWzLT"
   },
   "outputs": [],
   "source": [
    "cfg = {\n",
    "        'simple_1': [32, 'M', 64, 'M', 128, 128, 'M', 64,  32],\n",
    "        'more_simple_regr_chan': [32, 'M', 64, 'M', 64, 64, 'M', 32, 16],\n",
    "        'simple_regr_chan': [32, 'M', 64, 'M', 256, 256, 'M', 128, 64],\n",
    "        'regr_on_channels_v2': [64, 'M', 256, 'M', 512, 512, 'M', 256, 128, 64],\n",
    "        'regr_on_channels_v3': [64, 128, 'M', 256, 256, 'M', 512, 512, 'M', 256, 128, 64]\n",
    "}"
   ]
  },
  {
   "cell_type": "markdown",
   "metadata": {
    "colab_type": "text",
    "id": "Q0bBIAozq58T"
   },
   "source": [
    "![alt text](https://miro.medium.com/max/3288/1*uAeANQIOQPqWZnnuH-VEyw.jpeg)\n"
   ]
  },
  {
   "cell_type": "markdown",
   "metadata": {
    "colab_type": "text",
    "id": "tT-UFcNDqPLz"
   },
   "source": [
    "Конфигурации сетей, где 'M' - Maxpooling, Числа - Количество карт (convolution)\n",
    "\n",
    "На рисунке предложены fully-conected слои, но я регрессировал на каналы, что одно и тоже"
   ]
  },
  {
   "cell_type": "code",
   "execution_count": 0,
   "metadata": {
    "colab": {},
    "colab_type": "code",
    "id": "dyJOEwG4CSAm"
   },
   "outputs": [],
   "source": [
    "class Net(nn.Module):\n",
    "    def __init__(self, name, n_classes):\n",
    "        super().__init__()\n",
    "        self.n_classes = n_classes\n",
    "        self.features = self._feature_extractor(cfg[name])       \n",
    "        self.classifier = nn.AvgPool2d(kernel_size=8, stride=1)\n",
    "        \n",
    "    def forward(self, x):\n",
    "        features = self.features(x)\n",
    "        return self.classifier(features).squeeze()\n",
    "    \n",
    "    def _feature_extractor(self, cfg):\n",
    "        layers = list()\n",
    "        in_channels = 1\n",
    "        for x in cfg:\n",
    "            if x == 'M':\n",
    "                layers += [nn.MaxPool2d(kernel_size=2, stride=2), nn.Dropout(p=0.1)]\n",
    "            else:\n",
    "                layers += [nn.Conv2d(in_channels=in_channels, out_channels=x, kernel_size=3, padding=1),\n",
    "                            nn.BatchNorm2d(x),\n",
    "                            nn.ReLU(inplace=True)]\n",
    "                in_channels = x\n",
    "        layers += [nn.Conv2d(in_channels=in_channels, out_channels=self.n_classes, kernel_size=3, padding=1)]\n",
    "        \n",
    "\n",
    "        return nn.Sequential(*layers)"
   ]
  },
  {
   "cell_type": "markdown",
   "metadata": {
    "colab_type": "text",
    "id": "aRohdB6asvUh"
   },
   "source": [
    "Feature extractor - это извлечение информации из изображений\n",
    "\n",
    "Сlassifier - классификация"
   ]
  },
  {
   "cell_type": "code",
   "execution_count": 0,
   "metadata": {
    "colab": {},
    "colab_type": "code",
    "id": "oIrNaq4Hr_Sn"
   },
   "outputs": [],
   "source": [
    "net = Net('more_simple_regr_chan', n_classes)  # Создание сети"
   ]
  },
  {
   "cell_type": "code",
   "execution_count": 31,
   "metadata": {
    "colab": {
     "base_uri": "https://localhost:8080/",
     "height": 1000,
     "referenced_widgets": [
      "d40ced1b61b3421d8e7acfcc667e6d3d",
      "f1ba4427e848426e8747935c781b4f9a",
      "13da19a1656548fdb1c272e745bcb5bd",
      "99d225440dfe4303afe22bda03f7bf35",
      "45a26e2a6ad64228b1bc28b7d659c48a",
      "90dc8ba12c9a436bb936b424513d9c3c",
      "51c05e62156f48049b7535db57430f15",
      "67bd6157f35846909f604b6ab49ba517",
      "a7584e60c9004469aa68d8b871225c6f",
      "a65d9d0fd0db40af939b89867e391462",
      "885062d80b7642e69192070f211ccddd",
      "5b4747aa78fc453abfd6ede6a27ad258",
      "43548e92973f429ea04a83bfa737cd30",
      "d5eb8a6401d0490bbbcddf8a46790c1b",
      "3d51af5c591a4442b0a296efc319a318",
      "573dc7eba9fe477f9c3c02cb5dd54574",
      "15352bdff4d1436382e9b67b7945fdcd",
      "42dee8b47a6144728302d7316647381b",
      "c596b96c9612412abf4cc53c635b241c",
      "d4d3023a340e4c2781d71b3903444346",
      "fd280792f5b444f68c9fe585de9efa27",
      "b8b487a50cd44f36918f100d256d045a",
      "0bcbc12b7ebd46baab67417d1cbe0afb",
      "293538b191794f8e9670f0703e18ae67",
      "dd9cebf749a34d02b3774a947b4db295",
      "bd7f06f045e9469ea8f7c93239169cc4",
      "64b5fb86405541c9972716550b8d87de",
      "ca92a47840334563aa9f965034f10071",
      "0d9297fcac714c7596d0519896d03631",
      "bb7d774e23294d508b76d688caf1c759",
      "034888965fa4429db4a679f76dd786e6",
      "cfabbfcd85904729b038a282f33e6c0f",
      "23fbcfad4c004035b9901318406e17fb",
      "3584279437c34a0dab236ddb6a4aec37",
      "1c6515956d8d45d69cf8304e6f3f2c75",
      "4de7abdb666e4d01bd9528c216b08e81",
      "936fcaba42aa4e9ea74479d5180d054d",
      "dab248fa514843f3a9e5d01db6690462",
      "67ca6ec6a0404e0680d180c05944094f",
      "9bd689a7b3bd4b828d21e72eebe38075",
      "4f45ea7c660a4d349a94fe6cd227db1d",
      "283be1c2740e42b98b360db2753ab52b",
      "e50f32448e274d2cbfbad5f465df54de",
      "da27ef98c12e432db1c40baf7bb63247",
      "5fb7eb84eee8465ba74d284aeba138b2",
      "bae062fa3e304da38cc89def003e0a30",
      "d80460055457483a87766817a107ef61",
      "9000cc2b9ea74d79af2316fb1e3101fc",
      "a4751e3dc5694257be262ce2f5f5e807",
      "2302e256e04249d6b43511c0a92de3bd",
      "f21b3a14b01a40079f97f7595a837710",
      "9053ccd0522949919b42ddae3a035c83",
      "381c6ffb5ca4477da288e52045bf5dbe",
      "461bec2e9fd14259a2ff5edab182bc36",
      "200ca56de58f48c4b9a91e4cac506719",
      "bca4f6a1a1214cd88cb19e8b3eae7f9b",
      "88932f3475594a4ca6d9a438bad31209",
      "74c9aa80dd794c958ef078a159fcd2d3",
      "cad43b5a74e44169873e497db1045a9c",
      "6d42171cd8d143608306b6491c2fcce9",
      "b0afd61ea2c0477c91c61983421d6f32",
      "71b576cf291c4f2db8a1340480a45716",
      "04612fc67dce4ba182e93f28cd94cf36",
      "43dbcf2572a346dca61093d70c7dcd7a",
      "46c3e5e3069f45148826c02de643e111",
      "bc72390ef7044831b2fe99d1aa3fd576",
      "9f2f1a32fd304a4093d73fc74f491e7c",
      "ba3207387116412a84ba71b6f0b0a34f",
      "6ab33729ce27485ab9c666ac303c4f71",
      "45901ed2cd184da7bbdd880429af4bc3",
      "cddd6634f289406ea8cebb9a349d5b36",
      "e319eb915aae414aad2e0ecd97640c72",
      "d792793673c047c6879a18476984ae9a",
      "546f0507f06649c39bc64d9ada2a1ad7",
      "185afd8866104fbbaa449f6e21603974",
      "28bce8aba293417bb1c9deebd05cbfcf",
      "63248c54d0e74349b621f41adb2d6421",
      "c25b31813a45494f97dca7326babb821",
      "493dc307487544be82eba17f4234ebb9",
      "cc4c59a1db9e46ee9ceb483f4fa2a793",
      "8c7f1efaafd64a55bca753b0695dae71",
      "1443e72aacd849e58dfdde880860dcfe",
      "102982fbeadb4096970d9e3604d8a93a",
      "cee28287307b4722a7d607b65bfee923",
      "919e6b611e3240e385235eb2d56c2bc1",
      "b5f7d0a8c84d4f009ecb7fd8d97e8631",
      "95c9be1fb4e74a6d9305dd357462ea96",
      "64455baa893a43ff9195367aed9b5bc6",
      "5aa814571b8f42d4b61f4b681680f728",
      "ea4d6ba20e5f44dc99cea4ebb6b42ac8",
      "c26fbc9aa2804c94977d814fc802dc89",
      "39455b1cdd8d4b4281dcf5ecf44262d5",
      "fc74a1b636014104bf2e3f9c834465cc",
      "f8a428fc836c44258469648f973fbff9",
      "e432175e3dbb4d3b88fb703eccf6d5fe",
      "6b5f8a48cb7241fda202d1ab174a56fe",
      "847493c8f9124e78ba32c8761db8e035",
      "e66f69bfdfd642c6a4f5bccb5ec8221e",
      "4c3e421c04a74d71be0bfde2c97a9ddd",
      "3f6776b48c5442d4bedfe58ffe38f706",
      "a30e9bada4144230aded45e20fbd93a0",
      "6201834dc9194fd2bdd5c4811deb0fb7",
      "3d06b0cc16c84a14bb05f018241f70a4",
      "49a8e95c2358421bbdc93a37bcf1fa21",
      "8fe88ad0f4574a61ba2db5430c34784c",
      "28cc35111d414dbb906fb215c373e195",
      "c578a85c779143ca87e69e54bd6e0111",
      "dde009c6a110471c8652a4bc0e65a51c",
      "f973eda584c74d9f83b77ff9414d9f26",
      "ba1b1525bf2c4a93b9477ead72c3f371",
      "d7ffbf435e7d46969db22c53d2fb78fb",
      "a4b606484869413195a8e2664f1fa143",
      "466654a024f74c07aaa9cc193e2ca7e1",
      "7ad6e6e4d8e745f1a2b0f67ec52d95e9",
      "423913362fe44da39be952bf6934611f",
      "3368f8b1ce2648e8895d3d10f68d67e5",
      "00baf08eeb3a46ab8b91cd39b2f134f5",
      "1fcb5c0efd954f1eb491b0e1aca79aef",
      "fb58132c1dc14432af5deae237c779ca",
      "2998f6f91782487990090f0d5cb60b92",
      "88e9e7ea8f8348b591223fd4d13b3e8e",
      "7b62d7bb99cf416ca834c602648c22e6",
      "da6d66cc27cd48fc867b49a394ee7139",
      "95d99aec412b4af2b6e8b2b0b6d18935",
      "ad0ce59ffc1943918cc80e13b4c2ff44",
      "3b568ec2babe44d780810feafc91bbe3",
      "066806f4a87245c2b4a71b18ffd5b073",
      "dd404ef6c16347e7b936568ca309e527",
      "704e7fff9c214627a7b45521b32c8e4f",
      "0210402f534d471fad04d184829b31a5",
      "6e6c300b6ce9470cb996cbf9f8f97ab3",
      "899e144db8a149c0959f07bad2b1d251",
      "4c849cb20d9e4dffb2c26b346728ef66",
      "040541d3745947c6a4805000851b16c5",
      "3eb76f2fbc254b2f8336c5ad941f4818",
      "51609955cb884b048f231584565e23c5",
      "7a56ad8fce014637b6171e504995155d",
      "bc7142997c8549a79928c43466cbeb3e",
      "4be2ce84c5c54377b745370dbb36c551",
      "4ea1197add94405b8b93c7d7244dd85f",
      "a4ecf8a9d30d4a46a2c12076341080f9",
      "86782b5c7c21462184c8febe65d862e6",
      "fc3569ab642c4aedb76a97ea0e58f9cb",
      "8ec8e52ff4ae4a3fa7fb5cad1215801c",
      "229d905b6c044fb391838c0e06195caa",
      "55d9d705ce594310b00e59cbc03cc2d1",
      "3e29f6d606174df6878be75c31431576",
      "3d309c93be74446a8d243e71819c01aa",
      "7dc11e70718f40e3bf47acdfd1e2e433",
      "3b0a2cfaecb34def97e2a92142b4c128",
      "c6824ff6da774d32b7620c07ede8b6d7",
      "75cc827cc2da4aaaa9f9a1fe011db2ed",
      "6225df9e4132457fb1d06079437810a3",
      "d2ff92f9de974445a4936fa5c4484f10",
      "ef50f626848c417087a7f07657ac0a1b",
      "c79cde98728d48deb92cfc044b5f9316",
      "2759a3a06cd7456c847b873f36e40fe8",
      "ac5dc06419ea4b1e879825f0c96c9e34",
      "90b4d920b72d4df98ec3aebce6526c74",
      "9dae318c39044fc5858a66e0d519cf45",
      "6d788ea3c94346f6ba45289302d47b79",
      "31d3a4f4ef444cffb5fe7788e2920cf4",
      "7e641ae9594544eb862b01f38ef684ad",
      "f25ab14150ea48d6a22c74b90a9fb6d9",
      "a9465ec192254251befaed7ef3863fab",
      "6da4448f2e354b57a606840aa162637b",
      "529f61392fca45169a2d3c8b08df6d85",
      "27e0ca56bb764b2e9e753be29b6350c4",
      "90bd70692b5c40da8e61938c12bcece9",
      "1dc2924f02ff44d4b7d67e9c085afe44",
      "3cfa5825f1004d1884a0a1df23d4bf84",
      "ccba65d3ab2f44ffa8cf94e99adc7471",
      "60e338c0776648018576563484c0737d",
      "afeb6856814844d89e2b33e4888cc954",
      "f9548b4a849e440baf6c91b11ac5d6bc",
      "87fe178573d74f6bbb04b6cce8c2697f",
      "18a92bd6e8444a84a01c4abc88391f5a",
      "0b490fb5cd10486893889b0e357e8f50",
      "ce09a184d0e246dc97813329f753b6bb",
      "7b0e79e681064809b3df746ee70e7d1b",
      "a5257aa31f50494f84768f4133f73981",
      "bb4291e526264ed2ae1cee1c2b74d8ed",
      "5f36d62da549438aa5375b3c45502b73",
      "15b5e56b36e7402989f38c2be9220f63",
      "7294c58c532d47f4be53d8f06d5f793c",
      "fe0036b0d2354d81b6dff8d37d160aea",
      "1d8f71db324945ccab5f0f2707cb1f19",
      "8a643c530b824ae1aa182709e555f4d3",
      "dfe8ec3ed7a44df79a395f64443328a9",
      "b38d8f0c08a94eec88c7b49b4ef23c1d",
      "23fcd276ee4c457395c0bc841b4d7f9f",
      "ff092641735147cca63285569eb832b7",
      "6408c0e8ebf7443ebae8f386721d1f4d",
      "bb9fc24564b24eadab3768cc90135f83",
      "c42fbfd3f98341518f0241503ed5014b",
      "0d81d8c0044e468b9f9101128c1c9f00",
      "ffdcb91e1f064df787928f4d4e53317f",
      "ab70f4630b38495aac80aeafc695b314",
      "55b1a016520a45648e07a1b67ef7d86d",
      "2dd68242a3c149bb97a326cc0b7734b7",
      "9fab8f1235a74866af639cd67999cdb7",
      "7b5c531788e84d25a9f530b073cf9afa",
      "25ee14ae67b64478bd324c340cd3a450",
      "b144b0c981544868887904b5fe059272",
      "13c5f4539893450eb713064eb8e295c1",
      "938165085f9847caa70cc93fc4d8a197",
      "89fe25daa73b40f6a5463837b164e0c3",
      "37958c0f7673410a9a0f6801db2ba400",
      "74d39c8ce58c4451a55ed257b863bbf1",
      "0968e3fb4761427e990348faaddd9631",
      "8e350fdd3a3341dc8549efa0864e616c",
      "8de5328feaff417dadb0f9b91b8ddad0",
      "abeed670f09942d0b0fac02a39de91e6",
      "804fec3515a64639afc425d117cd6ce3",
      "17b1afbe182d4ba5ba348575259def8d",
      "3a029cfaf9714ae4b0a8c3f789abc192",
      "bac7bfeb34fd4c98ae5a232fff702778",
      "d2277d46579147cc94e9292e50ecb2f7",
      "13b6615f26f049039633ffa50879b180",
      "74f92c0f7ae1464abc4455f4489715c5",
      "44032ca9272241209f4f6a83437a8930",
      "5a664339206e4030a79650aa735a20c2",
      "b7839807fb7345db95c671bf33579155",
      "34360f6b6d4d4f6d8ea51d34b3ce3fdb",
      "effe5a2d81494197ae855cf8fa2c149c",
      "93338ca184b345389c2eb75441b3ece6",
      "c81767aa526643c6aa35585f60839485",
      "4d8da062b313448c9f2e664d987f0dc6",
      "85179b2faa9c46dbbacd48f4fadb024e",
      "d5ed48a0c48f411fab4e2ebd627f9620",
      "16875c45125a404a83a79f248524d805",
      "f1a1d278c8d8425185d026946f138a1f",
      "ac9a7af7eebc4b468cca81ed3f679c85",
      "ad1be87c9e7748e4aa3b628e9bd88d71",
      "715c3a9d06814b9697d72ba8f57ccb14",
      "2b867525c83b4f47a6d5353f034a4f4d",
      "b3899c5caa774b6da7380f1c81540810",
      "97ec1c3cffb44020948ba5ed3e7db3b9",
      "764598eddffe4ee8b6e461593f2a4838",
      "647ef65f046d492f9153661e5962abad",
      "2a41a0b2dbc94ed79ef4524d1031c18f",
      "690da6baafab4705aef2ca9fbf93ad22",
      "f426d465c6734c20a7aa9cc08172ad20",
      "e3b439c449e94e47b47efef1ad2181de",
      "7896e9957b454702a6538475440600b0",
      "835c05011a8343e794dc66bdb723aa15",
      "a4be1e6bd87a45798a14897a112aae40",
      "92ca12eac8da40eb9d1da7f8d7954085",
      "7addfd93139646d9a5fe3851f4ac8a18",
      "705cbdc8b5ec4a46bfbf466d9ad9203c",
      "0d6f6f21caaa4d20bf16c417f58ed997",
      "001ea4b738d54f02bc92ececfe0edd6c",
      "5f93945b529e4192a0fd984c623040dc",
      "5208a71c213a4d0792effee868d81e21",
      "7ac8c35fd88640b48f3fb328662e4aeb",
      "7cf15502bb8047ee831f6d08fb1cad39",
      "3a6fcd9e45eb4e3c902f322afe6b55e5",
      "e79f75065e384812b8131cd90e356529",
      "c7ea28103c3c4488a14f922efee0a407",
      "caabe5793ce743b19f7b3b280222c95e",
      "09248ac2c55e49de910617904d185a7f",
      "d95b2866491948128c59d39fd995d34c",
      "0c51638ef8ec47a9beda13cec459146f",
      "b1e064788b564a16ad59612837835c64",
      "f0dc063aa5fa4e81b89954866a517aa5",
      "58349681161d482e9f175a49132ecdaa",
      "e796becd3a79483bb6100487917594d4",
      "8acd4183cc3642f3afa4f426d8e705bc",
      "dce363f6283b4e629a73b6e04be64ae3",
      "1767fb2330b045c091b5dd64bbf7d844",
      "db5aa7f7b97344cba7d9d2420ae246f7",
      "5c2dffef2b50493c99b2c3c9cf5b9366",
      "19e67453479b450cb1a6e200097e14b0",
      "99c2f4be30ec40dcb8c98ab856ed836e",
      "d26f80165fb44e11ac2df08c389e8cc8",
      "fa4dc6423a164dd3b8361eccdf22a4f5",
      "600ad03504e040138b831b696a69482d",
      "8112c78def73407d8b510b7bc4c89b83",
      "b537583e56ec474dadc77b0bac89f896",
      "816d439f1f0a4849aea7c396f1312037",
      "3bb158b80c2349b8bed6c75dd5ec5876",
      "7456096ce3a440cdb7d959661a93fff9",
      "47111aac60bb481291e1856c642ecc40",
      "99481e6dd7b940498d8e2780d413b51b",
      "a058f291e818419282cd2249612c3cef",
      "a0558ddf827246dc87e0dcbab9290b30",
      "e4f174c6c1ae4e16a24fe436429e15cb",
      "b72dc23737194c2bbc90b98765207715",
      "e49a6a42e22e4cfa8d615ff7e7272ea3",
      "6ca6fd64d71c484ca35b87dd12b920fe",
      "5df305ff7d6543b6b84bb2e7086bccd7",
      "c8272b14e5684c809aee2f8e5ec51840",
      "863f40808ef3487a8de1599582541d46",
      "75e175aadcdc4ab7a9d34eb0ae46c345",
      "f30854444a7444108191a5fd7be0ef2a",
      "5a76a9b1b56846dca1b46304a479c41f",
      "f08e91006cd947f482e7c4f4d8cc1cd5",
      "c734707c826547b2a4166397f29d3a9c",
      "8b72976d468d4a3eb8453d2dd18cd7ae",
      "50919d0ad21f47f19ce45fb3f7cb316e",
      "91f849aefa6b4f48ac42f460ed46a932",
      "6c23e989e7784146be0c7aea76975f93",
      "0dc2871ba061436e93e4190d52ce26dc",
      "34a07d2a184b436986240fd9a1304ed7",
      "b3b2168d4b8149a1888a6e0458e21289",
      "4febec0b9f9d4552b05027c27c25f2d2",
      "d6e2001d892847e7b961c2d8ade4e9b8",
      "275ed5993dc9411cacce20b134f01faf",
      "ded44b3eb8ca4fb7b168c03039c8e0f0",
      "eb8990669ac64d5b9262a13889223f54",
      "c9d1b8cba79d4807837b65c92c2258a5",
      "e330fe0d0a984f1fbbdb93ae55ac7fea",
      "d6256bf16c584b5bbbd9b0bb4481df68",
      "571f4311e49b4a289388a16fd3f416a5",
      "857ead26c14d4360a7289ee0402bb513",
      "094f2b01febd430f92d10dc4887fda7f",
      "1b544f6e12864634957df8e15547ea57",
      "3f879e81cff445c7b7433798c9658dcd",
      "5673d70a0c514227993e1ddf614501cb",
      "7bde564d38a843188ac33d43694b88e8",
      "3756933765204a1ca8b401a1d0f3c325",
      "2c90358eb94f4f7f989305061ff9a9cb",
      "9a1b048471d8490d968065da98ee0e4f",
      "640d6e6376344561bfbda4b6ec03f9be",
      "df19b632849a4231bab6a39337d5448c",
      "ad1d1429a0a34fb58882addbbf896942",
      "641c9dc3729648cdbdf95783698ba22f",
      "e70d9a82c9b648caa455c4795c0d97db",
      "1f6af17c7cd4406ca22d63bc1ffd97bd",
      "d3915e9233e94842bd3da574efa823b7",
      "ab2b537fc2f84ea1b2f64c085623b663",
      "da66544946424cc1b7dea41d7ef79427",
      "d8364045abac44f6ac252d63c1175df1",
      "0b25fce9f1e847d29cbc9aac2e91539e",
      "6442dabba3dc4ad1b82b3bfdfdbd61ef",
      "cb8eec40e2b14c8e9e58f8de79129dd5",
      "7ff835906e984889a38ecf0fac08ead3",
      "5fa87732692845caac5754774ca812f9",
      "3dfd62cc64bb4d949bee34e1f0403b47",
      "75f0c21cdf2443b3b0486f5abd7f8a58",
      "1577a901a5fd42b1a35f1df9efc8da94",
      "39d32f75312e4f478ae33af96ec19cc7",
      "a5958e684c044d42829e2fc95917b379",
      "129aec82a2e34a8b906e3a1dfa6d601b",
      "46a029ab04fb480687d35772b07881d7",
      "47d87ce0333b457f8a79c6e82aee49dd",
      "a97d56e4d63e4b699c6f3e564ab1b849",
      "b4afa796e3c94bdbaf0ec48db31befc2",
      "4d9c88e92c0b4ea5ac45502801c064b6",
      "4646707588e0475ba68ccb24ea0fa08f",
      "9c43349d5d864b9a95b67669a01a8a05",
      "b3d64a56ca944cc9a8387ed973e78bae",
      "5524b9d1ae2842eea2ae1fdc1287ceee",
      "6938d840decc4bdcb5116f09328fcac2",
      "9248d5e026534837928ad51c2cb1f36c",
      "ca44f59b5c634604bec716dfa188b162",
      "23c7b222b0ff42a3896d7bdb03bd578f",
      "da1ca9067acf493eaabfa6d12d4f907f",
      "ddf403c54a0b473891f2bfe85e974a04",
      "85eed557e51544baa651a6dc09c8e29e",
      "c49f2589b2404fe3b90f4461766b08bb",
      "cdb663adfdcf4915bb4942b17b9c9e19",
      "637462257af64387bc5998acb578591c",
      "b60eda488b3f4090822b3cff7df7b7f1",
      "392c6b2c363d486aace6745169ae1a58",
      "b375ecd604e747078bb03255e4e7b753",
      "ac52fc55298f433399306bce28bbf4c1",
      "a097fd48b3ae4046b125e15bf849e2ba",
      "47daed38286c434d9d0fe7ee805badd3",
      "74ef58d08131495cb9b9307bda17766c",
      "76f236cf51134dc68f966d57f139adaf",
      "2d3d07af7816441793fbd8c86dd5721d",
      "631f01c821dc499e9ce6827427455d32",
      "d84c5fc204f44c1ba0735596da859946",
      "235afad24ae54b03aa35241564c47caa",
      "5b6982a3375944dfb9f9ad97a878a0ea",
      "86bc24f24c704f85bd4805c4c1f1a860",
      "fec354402eda4d3ea13a0e689a7ed364",
      "e657819717ca4669ba09a31356c9f1da",
      "410b366124b641cfbfe07ffc8efde80d",
      "2c8f874e35894e189654ba5c43c02e8e",
      "38bdacc2a24d4a47a582120f0958b9f7",
      "1c1e23e03144443ead7efdd603bdd73c",
      "f244fe27017b4360967298766f9021d2",
      "4dd253cc823d400f9faeff0630ed6666",
      "e62ed76f65844ebeb2fb29e31921f0fa",
      "8c1cfb1b20b148eab40a2e4aca8e33e2",
      "b846ce1fc4d047209d9d7fe1b0af8d8f",
      "250e545f4022442a806068c0f7f8ffd5",
      "5be68f8e94b74be197a17c7b003c5710",
      "0eaf123cc01547d5ada5525c42d25324",
      "4aa85a1f58214801bd2c880b11949e9c",
      "5c4d4e1dae9546cb9e7e8b753a1f08fb",
      "41d3f26aaa9645ad81216b8382bec4f9",
      "3b7a0cb3b84c4a79a7e994f9cec649e2",
      "b941662dd7904111a9638f67bb7d1b1b",
      "53ca65c43404478696a81c0a95fa81d4",
      "07c2ee9045d8470f91d5a71ab96db67b",
      "be55efec9904405fb72eb4f664cc1530",
      "dca7f3cab8f2486292d241e9be09fdaf"
     ]
    },
    "colab_type": "code",
    "id": "VkLR07zmFLer",
    "outputId": "fbcbae74-d523-4ceb-a953-de02af0ea2f8"
   },
   "outputs": [
    {
     "name": "stderr",
     "output_type": "stream",
     "text": [
      "\r",
      "epoch:   0%|          | 0/25 [00:00<?, ?it/s]"
     ]
    },
    {
     "data": {
      "application/vnd.jupyter.widget-view+json": {
       "model_id": "d40ced1b61b3421d8e7acfcc667e6d3d",
       "version_major": 2,
       "version_minor": 0
      },
      "text/plain": [
       "HBox(children=(FloatProgress(value=0.0, max=38.0), HTML(value='')))"
      ]
     },
     "metadata": {
      "tags": []
     },
     "output_type": "display_data"
    },
    {
     "name": "stdout",
     "output_type": "stream",
     "text": [
      "\n",
      "lr:  0.01\n",
      "loss 1.6576632912953695\n"
     ]
    },
    {
     "data": {
      "application/vnd.jupyter.widget-view+json": {
       "model_id": "a7584e60c9004469aa68d8b871225c6f",
       "version_major": 2,
       "version_minor": 0
      },
      "text/plain": [
       "HBox(children=(FloatProgress(value=0.0, max=10.0), HTML(value='')))"
      ]
     },
     "metadata": {
      "tags": []
     },
     "output_type": "display_data"
    },
    {
     "name": "stderr",
     "output_type": "stream",
     "text": [
      "epoch:   4%|▍         | 1/25 [00:48<19:34, 48.93s/it]"
     ]
    },
    {
     "name": "stdout",
     "output_type": "stream",
     "text": [
      "\n",
      "\n",
      "Epoch 001 train_loss: 1.6577 val_loss 1.9485 train_acc 0.2859 val_acc 0.2478\n"
     ]
    },
    {
     "data": {
      "application/vnd.jupyter.widget-view+json": {
       "model_id": "15352bdff4d1436382e9b67b7945fdcd",
       "version_major": 2,
       "version_minor": 0
      },
      "text/plain": [
       "HBox(children=(FloatProgress(value=0.0, max=38.0), HTML(value='')))"
      ]
     },
     "metadata": {
      "tags": []
     },
     "output_type": "display_data"
    },
    {
     "name": "stdout",
     "output_type": "stream",
     "text": [
      "\n",
      "lr:  0.01\n",
      "loss 1.5132553879419963\n"
     ]
    },
    {
     "data": {
      "application/vnd.jupyter.widget-view+json": {
       "model_id": "dd9cebf749a34d02b3774a947b4db295",
       "version_major": 2,
       "version_minor": 0
      },
      "text/plain": [
       "HBox(children=(FloatProgress(value=0.0, max=10.0), HTML(value='')))"
      ]
     },
     "metadata": {
      "tags": []
     },
     "output_type": "display_data"
    },
    {
     "name": "stderr",
     "output_type": "stream",
     "text": [
      "epoch:   8%|▊         | 2/25 [01:34<18:19, 47.82s/it]"
     ]
    },
    {
     "name": "stdout",
     "output_type": "stream",
     "text": [
      "\n",
      "\n",
      "Epoch 002 train_loss: 1.5133 val_loss 1.3847 train_acc 0.3781 val_acc 0.4372\n"
     ]
    },
    {
     "data": {
      "application/vnd.jupyter.widget-view+json": {
       "model_id": "23fbcfad4c004035b9901318406e17fb",
       "version_major": 2,
       "version_minor": 0
      },
      "text/plain": [
       "HBox(children=(FloatProgress(value=0.0, max=38.0), HTML(value='')))"
      ]
     },
     "metadata": {
      "tags": []
     },
     "output_type": "display_data"
    },
    {
     "name": "stdout",
     "output_type": "stream",
     "text": [
      "\n",
      "lr:  0.01\n",
      "loss 1.4040076065063476\n"
     ]
    },
    {
     "data": {
      "application/vnd.jupyter.widget-view+json": {
       "model_id": "4f45ea7c660a4d349a94fe6cd227db1d",
       "version_major": 2,
       "version_minor": 0
      },
      "text/plain": [
       "HBox(children=(FloatProgress(value=0.0, max=10.0), HTML(value='')))"
      ]
     },
     "metadata": {
      "tags": []
     },
     "output_type": "display_data"
    },
    {
     "name": "stderr",
     "output_type": "stream",
     "text": [
      "epoch:  12%|█▏        | 3/25 [02:18<17:11, 46.86s/it]"
     ]
    },
    {
     "name": "stdout",
     "output_type": "stream",
     "text": [
      "\n",
      "\n",
      "Epoch 003 train_loss: 1.4040 val_loss 1.2223 train_acc 0.4366 val_acc 0.4909\n"
     ]
    },
    {
     "data": {
      "application/vnd.jupyter.widget-view+json": {
       "model_id": "a4751e3dc5694257be262ce2f5f5e807",
       "version_major": 2,
       "version_minor": 0
      },
      "text/plain": [
       "HBox(children=(FloatProgress(value=0.0, max=38.0), HTML(value='')))"
      ]
     },
     "metadata": {
      "tags": []
     },
     "output_type": "display_data"
    },
    {
     "name": "stdout",
     "output_type": "stream",
     "text": [
      "\n",
      "lr:  0.01\n",
      "loss 1.2649112685521444\n"
     ]
    },
    {
     "data": {
      "application/vnd.jupyter.widget-view+json": {
       "model_id": "88932f3475594a4ca6d9a438bad31209",
       "version_major": 2,
       "version_minor": 0
      },
      "text/plain": [
       "HBox(children=(FloatProgress(value=0.0, max=10.0), HTML(value='')))"
      ]
     },
     "metadata": {
      "tags": []
     },
     "output_type": "display_data"
    },
    {
     "name": "stderr",
     "output_type": "stream",
     "text": [
      "epoch:  16%|█▌        | 4/25 [03:03<16:11, 46.27s/it]"
     ]
    },
    {
     "name": "stdout",
     "output_type": "stream",
     "text": [
      "\n",
      "\n",
      "Epoch 004 train_loss: 1.2649 val_loss 0.9396 train_acc 0.5056 val_acc 0.6349\n"
     ]
    },
    {
     "data": {
      "application/vnd.jupyter.widget-view+json": {
       "model_id": "46c3e5e3069f45148826c02de643e111",
       "version_major": 2,
       "version_minor": 0
      },
      "text/plain": [
       "HBox(children=(FloatProgress(value=0.0, max=38.0), HTML(value='')))"
      ]
     },
     "metadata": {
      "tags": []
     },
     "output_type": "display_data"
    },
    {
     "name": "stdout",
     "output_type": "stream",
     "text": [
      "\n",
      "lr:  0.01\n",
      "loss 1.1211228561401367\n"
     ]
    },
    {
     "data": {
      "application/vnd.jupyter.widget-view+json": {
       "model_id": "d792793673c047c6879a18476984ae9a",
       "version_major": 2,
       "version_minor": 0
      },
      "text/plain": [
       "HBox(children=(FloatProgress(value=0.0, max=10.0), HTML(value='')))"
      ]
     },
     "metadata": {
      "tags": []
     },
     "output_type": "display_data"
    },
    {
     "name": "stderr",
     "output_type": "stream",
     "text": [
      "epoch:  20%|██        | 5/25 [03:48<15:17, 45.87s/it]"
     ]
    },
    {
     "name": "stdout",
     "output_type": "stream",
     "text": [
      "\n",
      "\n",
      "Epoch 005 train_loss: 1.1211 val_loss 1.1275 train_acc 0.5637 val_acc 0.5733\n"
     ]
    },
    {
     "data": {
      "image/png": "[encoded data removed]",
      "text/plain": [
       "<Figure size 432x288 with 1 Axes>"
      ]
     },
     "metadata": {
      "needs_background": "light",
      "tags": []
     },
     "output_type": "display_data"
    },
    {
     "data": {
      "image/png": "[encoded data removed]",
      "text/plain": [
       "<Figure size 432x288 with 1 Axes>"
      ]
     },
     "metadata": {
      "needs_background": "light",
      "tags": []
     },
     "output_type": "display_data"
    },
    {
     "data": {
      "application/vnd.jupyter.widget-view+json": {
       "model_id": "8c7f1efaafd64a55bca753b0695dae71",
       "version_major": 2,
       "version_minor": 0
      },
      "text/plain": [
       "HBox(children=(FloatProgress(value=0.0, max=38.0), HTML(value='')))"
      ]
     },
     "metadata": {
      "tags": []
     },
     "output_type": "display_data"
    },
    {
     "name": "stdout",
     "output_type": "stream",
     "text": [
      "\n",
      "lr:  0.01\n",
      "loss 0.9921990577379862\n"
     ]
    },
    {
     "data": {
      "application/vnd.jupyter.widget-view+json": {
       "model_id": "5aa814571b8f42d4b61f4b681680f728",
       "version_major": 2,
       "version_minor": 0
      },
      "text/plain": [
       "HBox(children=(FloatProgress(value=0.0, max=10.0), HTML(value='')))"
      ]
     },
     "metadata": {
      "tags": []
     },
     "output_type": "display_data"
    },
    {
     "name": "stderr",
     "output_type": "stream",
     "text": [
      "epoch:  24%|██▍       | 6/25 [04:34<14:29, 45.74s/it]"
     ]
    },
    {
     "name": "stdout",
     "output_type": "stream",
     "text": [
      "\n",
      "\n",
      "Epoch 006 train_loss: 0.9922 val_loss 0.9613 train_acc 0.6104 val_acc 0.6146\n"
     ]
    },
    {
     "data": {
      "application/vnd.jupyter.widget-view+json": {
       "model_id": "847493c8f9124e78ba32c8761db8e035",
       "version_major": 2,
       "version_minor": 0
      },
      "text/plain": [
       "HBox(children=(FloatProgress(value=0.0, max=38.0), HTML(value='')))"
      ]
     },
     "metadata": {
      "tags": []
     },
     "output_type": "display_data"
    },
    {
     "name": "stdout",
     "output_type": "stream",
     "text": [
      "\n",
      "lr:  0.01\n",
      "loss 0.9213679075241089\n"
     ]
    },
    {
     "data": {
      "application/vnd.jupyter.widget-view+json": {
       "model_id": "8fe88ad0f4574a61ba2db5430c34784c",
       "version_major": 2,
       "version_minor": 0
      },
      "text/plain": [
       "HBox(children=(FloatProgress(value=0.0, max=10.0), HTML(value='')))"
      ]
     },
     "metadata": {
      "tags": []
     },
     "output_type": "display_data"
    },
    {
     "name": "stderr",
     "output_type": "stream",
     "text": [
      "epoch:  28%|██▊       | 7/25 [05:18<13:35, 45.31s/it]"
     ]
    },
    {
     "name": "stdout",
     "output_type": "stream",
     "text": [
      "\n",
      "\n",
      "Epoch 007 train_loss: 0.9214 val_loss 0.8012 train_acc 0.6388 val_acc 0.6843\n"
     ]
    },
    {
     "data": {
      "application/vnd.jupyter.widget-view+json": {
       "model_id": "466654a024f74c07aaa9cc193e2ca7e1",
       "version_major": 2,
       "version_minor": 0
      },
      "text/plain": [
       "HBox(children=(FloatProgress(value=0.0, max=38.0), HTML(value='')))"
      ]
     },
     "metadata": {
      "tags": []
     },
     "output_type": "display_data"
    },
    {
     "name": "stdout",
     "output_type": "stream",
     "text": [
      "\n",
      "lr:  0.01\n",
      "loss 0.8230324856440226\n"
     ]
    },
    {
     "data": {
      "application/vnd.jupyter.widget-view+json": {
       "model_id": "88e9e7ea8f8348b591223fd4d13b3e8e",
       "version_major": 2,
       "version_minor": 0
      },
      "text/plain": [
       "HBox(children=(FloatProgress(value=0.0, max=10.0), HTML(value='')))"
      ]
     },
     "metadata": {
      "tags": []
     },
     "output_type": "display_data"
    },
    {
     "name": "stderr",
     "output_type": "stream",
     "text": [
      "epoch:  32%|███▏      | 8/25 [06:02<12:44, 45.00s/it]"
     ]
    },
    {
     "name": "stdout",
     "output_type": "stream",
     "text": [
      "\n",
      "\n",
      "Epoch 008 train_loss: 0.8230 val_loss 0.6028 train_acc 0.6736 val_acc 0.7519\n"
     ]
    },
    {
     "data": {
      "application/vnd.jupyter.widget-view+json": {
       "model_id": "704e7fff9c214627a7b45521b32c8e4f",
       "version_major": 2,
       "version_minor": 0
      },
      "text/plain": [
       "HBox(children=(FloatProgress(value=0.0, max=38.0), HTML(value='')))"
      ]
     },
     "metadata": {
      "tags": []
     },
     "output_type": "display_data"
    },
    {
     "name": "stdout",
     "output_type": "stream",
     "text": [
      "\n",
      "lr:  0.01\n",
      "loss 0.7587416839599609\n"
     ]
    },
    {
     "data": {
      "application/vnd.jupyter.widget-view+json": {
       "model_id": "7a56ad8fce014637b6171e504995155d",
       "version_major": 2,
       "version_minor": 0
      },
      "text/plain": [
       "HBox(children=(FloatProgress(value=0.0, max=10.0), HTML(value='')))"
      ]
     },
     "metadata": {
      "tags": []
     },
     "output_type": "display_data"
    },
    {
     "name": "stderr",
     "output_type": "stream",
     "text": [
      "epoch:  36%|███▌      | 9/25 [06:46<11:55, 44.71s/it]"
     ]
    },
    {
     "name": "stdout",
     "output_type": "stream",
     "text": [
      "\n",
      "\n",
      "Epoch 009 train_loss: 0.7587 val_loss 0.7610 train_acc 0.6964 val_acc 0.6941\n"
     ]
    },
    {
     "data": {
      "application/vnd.jupyter.widget-view+json": {
       "model_id": "229d905b6c044fb391838c0e06195caa",
       "version_major": 2,
       "version_minor": 0
      },
      "text/plain": [
       "HBox(children=(FloatProgress(value=0.0, max=38.0), HTML(value='')))"
      ]
     },
     "metadata": {
      "tags": []
     },
     "output_type": "display_data"
    },
    {
     "name": "stdout",
     "output_type": "stream",
     "text": [
      "\n",
      "lr:  0.01\n",
      "loss 0.7282010618845621\n"
     ]
    },
    {
     "data": {
      "application/vnd.jupyter.widget-view+json": {
       "model_id": "6225df9e4132457fb1d06079437810a3",
       "version_major": 2,
       "version_minor": 0
      },
      "text/plain": [
       "HBox(children=(FloatProgress(value=0.0, max=10.0), HTML(value='')))"
      ]
     },
     "metadata": {
      "tags": []
     },
     "output_type": "display_data"
    },
    {
     "name": "stderr",
     "output_type": "stream",
     "text": [
      "epoch:  40%|████      | 10/25 [07:30<11:07, 44.51s/it]"
     ]
    },
    {
     "name": "stdout",
     "output_type": "stream",
     "text": [
      "\n",
      "\n",
      "Epoch 010 train_loss: 0.7282 val_loss 0.5558 train_acc 0.7050 val_acc 0.7795\n"
     ]
    },
    {
     "data": {
      "image/png": "[encoded data removed]",
      "text/plain": [
       "<Figure size 432x288 with 1 Axes>"
      ]
     },
     "metadata": {
      "needs_background": "light",
      "tags": []
     },
     "output_type": "display_data"
    },
    {
     "data": {
      "image/png": "[encoded data removed]",
      "text/plain": [
       "<Figure size 432x288 with 1 Axes>"
      ]
     },
     "metadata": {
      "needs_background": "light",
      "tags": []
     },
     "output_type": "display_data"
    },
    {
     "data": {
      "application/vnd.jupyter.widget-view+json": {
       "model_id": "6d788ea3c94346f6ba45289302d47b79",
       "version_major": 2,
       "version_minor": 0
      },
      "text/plain": [
       "HBox(children=(FloatProgress(value=0.0, max=38.0), HTML(value='')))"
      ]
     },
     "metadata": {
      "tags": []
     },
     "output_type": "display_data"
    },
    {
     "name": "stdout",
     "output_type": "stream",
     "text": [
      "\n",
      "lr:  0.005\n",
      "loss 0.6233527255058289\n"
     ]
    },
    {
     "data": {
      "application/vnd.jupyter.widget-view+json": {
       "model_id": "90bd70692b5c40da8e61938c12bcece9",
       "version_major": 2,
       "version_minor": 0
      },
      "text/plain": [
       "HBox(children=(FloatProgress(value=0.0, max=10.0), HTML(value='')))"
      ]
     },
     "metadata": {
      "tags": []
     },
     "output_type": "display_data"
    },
    {
     "name": "stderr",
     "output_type": "stream",
     "text": [
      "epoch:  44%|████▍     | 11/25 [08:14<10:22, 44.44s/it]"
     ]
    },
    {
     "name": "stdout",
     "output_type": "stream",
     "text": [
      "\n",
      "\n",
      "Epoch 011 train_loss: 0.6234 val_loss 0.4598 train_acc 0.7461 val_acc 0.8007\n"
     ]
    },
    {
     "data": {
      "application/vnd.jupyter.widget-view+json": {
       "model_id": "18a92bd6e8444a84a01c4abc88391f5a",
       "version_major": 2,
       "version_minor": 0
      },
      "text/plain": [
       "HBox(children=(FloatProgress(value=0.0, max=38.0), HTML(value='')))"
      ]
     },
     "metadata": {
      "tags": []
     },
     "output_type": "display_data"
    },
    {
     "name": "stdout",
     "output_type": "stream",
     "text": [
      "\n",
      "lr:  0.005\n",
      "loss 0.5879554915428161\n"
     ]
    },
    {
     "data": {
      "application/vnd.jupyter.widget-view+json": {
       "model_id": "7294c58c532d47f4be53d8f06d5f793c",
       "version_major": 2,
       "version_minor": 0
      },
      "text/plain": [
       "HBox(children=(FloatProgress(value=0.0, max=10.0), HTML(value='')))"
      ]
     },
     "metadata": {
      "tags": []
     },
     "output_type": "display_data"
    },
    {
     "name": "stderr",
     "output_type": "stream",
     "text": [
      "epoch:  48%|████▊     | 12/25 [08:58<09:34, 44.18s/it]"
     ]
    },
    {
     "name": "stdout",
     "output_type": "stream",
     "text": [
      "\n",
      "\n",
      "Epoch 012 train_loss: 0.5880 val_loss 0.5512 train_acc 0.7592 val_acc 0.7649\n"
     ]
    },
    {
     "data": {
      "application/vnd.jupyter.widget-view+json": {
       "model_id": "6408c0e8ebf7443ebae8f386721d1f4d",
       "version_major": 2,
       "version_minor": 0
      },
      "text/plain": [
       "HBox(children=(FloatProgress(value=0.0, max=38.0), HTML(value='')))"
      ]
     },
     "metadata": {
      "tags": []
     },
     "output_type": "display_data"
    },
    {
     "name": "stdout",
     "output_type": "stream",
     "text": [
      "\n",
      "lr:  0.005\n",
      "loss 0.5656228804588318\n"
     ]
    },
    {
     "data": {
      "application/vnd.jupyter.widget-view+json": {
       "model_id": "9fab8f1235a74866af639cd67999cdb7",
       "version_major": 2,
       "version_minor": 0
      },
      "text/plain": [
       "HBox(children=(FloatProgress(value=0.0, max=10.0), HTML(value='')))"
      ]
     },
     "metadata": {
      "tags": []
     },
     "output_type": "display_data"
    },
    {
     "name": "stderr",
     "output_type": "stream",
     "text": [
      "epoch:  52%|█████▏    | 13/25 [09:42<08:49, 44.09s/it]"
     ]
    },
    {
     "name": "stdout",
     "output_type": "stream",
     "text": [
      "\n",
      "\n",
      "Epoch 013 train_loss: 0.5656 val_loss 0.4997 train_acc 0.7683 val_acc 0.7844\n"
     ]
    },
    {
     "data": {
      "application/vnd.jupyter.widget-view+json": {
       "model_id": "74d39c8ce58c4451a55ed257b863bbf1",
       "version_major": 2,
       "version_minor": 0
      },
      "text/plain": [
       "HBox(children=(FloatProgress(value=0.0, max=38.0), HTML(value='')))"
      ]
     },
     "metadata": {
      "tags": []
     },
     "output_type": "display_data"
    },
    {
     "name": "stdout",
     "output_type": "stream",
     "text": [
      "\n",
      "lr:  0.005\n",
      "loss 0.5470919680595397\n"
     ]
    },
    {
     "data": {
      "application/vnd.jupyter.widget-view+json": {
       "model_id": "bac7bfeb34fd4c98ae5a232fff702778",
       "version_major": 2,
       "version_minor": 0
      },
      "text/plain": [
       "HBox(children=(FloatProgress(value=0.0, max=10.0), HTML(value='')))"
      ]
     },
     "metadata": {
      "tags": []
     },
     "output_type": "display_data"
    },
    {
     "name": "stderr",
     "output_type": "stream",
     "text": [
      "epoch:  56%|█████▌    | 14/25 [10:26<08:04, 44.02s/it]"
     ]
    },
    {
     "name": "stdout",
     "output_type": "stream",
     "text": [
      "\n",
      "\n",
      "Epoch 014 train_loss: 0.5471 val_loss 0.3842 train_acc 0.7796 val_acc 0.8416\n"
     ]
    },
    {
     "data": {
      "application/vnd.jupyter.widget-view+json": {
       "model_id": "effe5a2d81494197ae855cf8fa2c149c",
       "version_major": 2,
       "version_minor": 0
      },
      "text/plain": [
       "HBox(children=(FloatProgress(value=0.0, max=38.0), HTML(value='')))"
      ]
     },
     "metadata": {
      "tags": []
     },
     "output_type": "display_data"
    },
    {
     "name": "stdout",
     "output_type": "stream",
     "text": [
      "\n",
      "lr:  0.005\n",
      "loss 0.5217557525634766\n"
     ]
    },
    {
     "data": {
      "application/vnd.jupyter.widget-view+json": {
       "model_id": "ac9a7af7eebc4b468cca81ed3f679c85",
       "version_major": 2,
       "version_minor": 0
      },
      "text/plain": [
       "HBox(children=(FloatProgress(value=0.0, max=10.0), HTML(value='')))"
      ]
     },
     "metadata": {
      "tags": []
     },
     "output_type": "display_data"
    },
    {
     "name": "stderr",
     "output_type": "stream",
     "text": [
      "epoch:  60%|██████    | 15/25 [11:10<07:19, 43.97s/it]"
     ]
    },
    {
     "name": "stdout",
     "output_type": "stream",
     "text": [
      "\n",
      "\n",
      "Epoch 015 train_loss: 0.5218 val_loss 0.3689 train_acc 0.7881 val_acc 0.8458\n"
     ]
    },
    {
     "data": {
      "image/png": "[encoded data removed]",
      "text/plain": [
       "<Figure size 432x288 with 1 Axes>"
      ]
     },
     "metadata": {
      "needs_background": "light",
      "tags": []
     },
     "output_type": "display_data"
    },
    {
     "data": {
      "image/png": "[encoded data removed]",
      "text/plain": [
       "<Figure size 432x288 with 1 Axes>"
      ]
     },
     "metadata": {
      "needs_background": "light",
      "tags": []
     },
     "output_type": "display_data"
    },
    {
     "data": {
      "application/vnd.jupyter.widget-view+json": {
       "model_id": "2a41a0b2dbc94ed79ef4524d1031c18f",
       "version_major": 2,
       "version_minor": 0
      },
      "text/plain": [
       "HBox(children=(FloatProgress(value=0.0, max=38.0), HTML(value='')))"
      ]
     },
     "metadata": {
      "tags": []
     },
     "output_type": "display_data"
    },
    {
     "name": "stdout",
     "output_type": "stream",
     "text": [
      "\n",
      "lr:  0.005\n",
      "loss 0.505078957080841\n"
     ]
    },
    {
     "data": {
      "application/vnd.jupyter.widget-view+json": {
       "model_id": "7addfd93139646d9a5fe3851f4ac8a18",
       "version_major": 2,
       "version_minor": 0
      },
      "text/plain": [
       "HBox(children=(FloatProgress(value=0.0, max=10.0), HTML(value='')))"
      ]
     },
     "metadata": {
      "tags": []
     },
     "output_type": "display_data"
    },
    {
     "name": "stderr",
     "output_type": "stream",
     "text": [
      "epoch:  64%|██████▍   | 16/25 [11:54<06:36, 44.02s/it]"
     ]
    },
    {
     "name": "stdout",
     "output_type": "stream",
     "text": [
      "\n",
      "\n",
      "Epoch 016 train_loss: 0.5051 val_loss 0.3478 train_acc 0.7971 val_acc 0.8635\n"
     ]
    },
    {
     "data": {
      "application/vnd.jupyter.widget-view+json": {
       "model_id": "3a6fcd9e45eb4e3c902f322afe6b55e5",
       "version_major": 2,
       "version_minor": 0
      },
      "text/plain": [
       "HBox(children=(FloatProgress(value=0.0, max=38.0), HTML(value='')))"
      ]
     },
     "metadata": {
      "tags": []
     },
     "output_type": "display_data"
    },
    {
     "name": "stdout",
     "output_type": "stream",
     "text": [
      "\n",
      "lr:  0.005\n",
      "loss 0.4964841643969218\n"
     ]
    },
    {
     "data": {
      "application/vnd.jupyter.widget-view+json": {
       "model_id": "f0dc063aa5fa4e81b89954866a517aa5",
       "version_major": 2,
       "version_minor": 0
      },
      "text/plain": [
       "HBox(children=(FloatProgress(value=0.0, max=10.0), HTML(value='')))"
      ]
     },
     "metadata": {
      "tags": []
     },
     "output_type": "display_data"
    },
    {
     "name": "stderr",
     "output_type": "stream",
     "text": [
      "epoch:  68%|██████▊   | 17/25 [12:37<05:51, 43.92s/it]"
     ]
    },
    {
     "name": "stdout",
     "output_type": "stream",
     "text": [
      "\n",
      "\n",
      "Epoch 017 train_loss: 0.4965 val_loss 0.4397 train_acc 0.8002 val_acc 0.8043\n"
     ]
    },
    {
     "data": {
      "application/vnd.jupyter.widget-view+json": {
       "model_id": "19e67453479b450cb1a6e200097e14b0",
       "version_major": 2,
       "version_minor": 0
      },
      "text/plain": [
       "HBox(children=(FloatProgress(value=0.0, max=38.0), HTML(value='')))"
      ]
     },
     "metadata": {
      "tags": []
     },
     "output_type": "display_data"
    },
    {
     "name": "stdout",
     "output_type": "stream",
     "text": [
      "\n",
      "lr:  0.005\n",
      "loss 0.48447932879130046\n"
     ]
    },
    {
     "data": {
      "application/vnd.jupyter.widget-view+json": {
       "model_id": "3bb158b80c2349b8bed6c75dd5ec5876",
       "version_major": 2,
       "version_minor": 0
      },
      "text/plain": [
       "HBox(children=(FloatProgress(value=0.0, max=10.0), HTML(value='')))"
      ]
     },
     "metadata": {
      "tags": []
     },
     "output_type": "display_data"
    },
    {
     "name": "stderr",
     "output_type": "stream",
     "text": [
      "epoch:  72%|███████▏  | 18/25 [13:21<05:06, 43.83s/it]"
     ]
    },
    {
     "name": "stdout",
     "output_type": "stream",
     "text": [
      "\n",
      "\n",
      "Epoch 018 train_loss: 0.4845 val_loss 0.3438 train_acc 0.8068 val_acc 0.8623\n"
     ]
    },
    {
     "data": {
      "application/vnd.jupyter.widget-view+json": {
       "model_id": "e49a6a42e22e4cfa8d615ff7e7272ea3",
       "version_major": 2,
       "version_minor": 0
      },
      "text/plain": [
       "HBox(children=(FloatProgress(value=0.0, max=38.0), HTML(value='')))"
      ]
     },
     "metadata": {
      "tags": []
     },
     "output_type": "display_data"
    },
    {
     "name": "stdout",
     "output_type": "stream",
     "text": [
      "\n",
      "lr:  0.005\n",
      "loss 0.4663290576140086\n"
     ]
    },
    {
     "data": {
      "application/vnd.jupyter.widget-view+json": {
       "model_id": "f08e91006cd947f482e7c4f4d8cc1cd5",
       "version_major": 2,
       "version_minor": 0
      },
      "text/plain": [
       "HBox(children=(FloatProgress(value=0.0, max=10.0), HTML(value='')))"
      ]
     },
     "metadata": {
      "tags": []
     },
     "output_type": "display_data"
    },
    {
     "name": "stderr",
     "output_type": "stream",
     "text": [
      "epoch:  76%|███████▌  | 19/25 [14:05<04:22, 43.76s/it]"
     ]
    },
    {
     "name": "stdout",
     "output_type": "stream",
     "text": [
      "\n",
      "\n",
      "Epoch 019 train_loss: 0.4663 val_loss 0.5874 train_acc 0.8156 val_acc 0.7709\n"
     ]
    },
    {
     "data": {
      "application/vnd.jupyter.widget-view+json": {
       "model_id": "b3b2168d4b8149a1888a6e0458e21289",
       "version_major": 2,
       "version_minor": 0
      },
      "text/plain": [
       "HBox(children=(FloatProgress(value=0.0, max=38.0), HTML(value='')))"
      ]
     },
     "metadata": {
      "tags": []
     },
     "output_type": "display_data"
    },
    {
     "name": "stdout",
     "output_type": "stream",
     "text": [
      "\n",
      "lr:  0.005\n",
      "loss 0.46308062195777894\n"
     ]
    },
    {
     "data": {
      "application/vnd.jupyter.widget-view+json": {
       "model_id": "d6256bf16c584b5bbbd9b0bb4481df68",
       "version_major": 2,
       "version_minor": 0
      },
      "text/plain": [
       "HBox(children=(FloatProgress(value=0.0, max=10.0), HTML(value='')))"
      ]
     },
     "metadata": {
      "tags": []
     },
     "output_type": "display_data"
    },
    {
     "name": "stderr",
     "output_type": "stream",
     "text": [
      "epoch:  80%|████████  | 20/25 [14:48<03:38, 43.68s/it]"
     ]
    },
    {
     "name": "stdout",
     "output_type": "stream",
     "text": [
      "\n",
      "\n",
      "Epoch 020 train_loss: 0.4631 val_loss 0.3220 train_acc 0.8159 val_acc 0.8636\n"
     ]
    },
    {
     "data": {
      "image/png": "[encoded data removed]",
      "text/plain": [
       "<Figure size 432x288 with 1 Axes>"
      ]
     },
     "metadata": {
      "needs_background": "light",
      "tags": []
     },
     "output_type": "display_data"
    },
    {
     "data": {
      "image/png": "[encoded data removed]",
      "text/plain": [
       "<Figure size 432x288 with 1 Axes>"
      ]
     },
     "metadata": {
      "needs_background": "light",
      "tags": []
     },
     "output_type": "display_data"
    },
    {
     "data": {
      "application/vnd.jupyter.widget-view+json": {
       "model_id": "3756933765204a1ca8b401a1d0f3c325",
       "version_major": 2,
       "version_minor": 0
      },
      "text/plain": [
       "HBox(children=(FloatProgress(value=0.0, max=38.0), HTML(value='')))"
      ]
     },
     "metadata": {
      "tags": []
     },
     "output_type": "display_data"
    },
    {
     "name": "stdout",
     "output_type": "stream",
     "text": [
      "\n",
      "lr:  0.0025\n",
      "loss 0.41763134360313414\n"
     ]
    },
    {
     "data": {
      "application/vnd.jupyter.widget-view+json": {
       "model_id": "1f6af17c7cd4406ca22d63bc1ffd97bd",
       "version_major": 2,
       "version_minor": 0
      },
      "text/plain": [
       "HBox(children=(FloatProgress(value=0.0, max=10.0), HTML(value='')))"
      ]
     },
     "metadata": {
      "tags": []
     },
     "output_type": "display_data"
    },
    {
     "name": "stderr",
     "output_type": "stream",
     "text": [
      "epoch:  84%|████████▍ | 21/25 [15:32<02:54, 43.68s/it]"
     ]
    },
    {
     "name": "stdout",
     "output_type": "stream",
     "text": [
      "\n",
      "\n",
      "Epoch 021 train_loss: 0.4176 val_loss 0.2502 train_acc 0.8324 val_acc 0.9006\n"
     ]
    },
    {
     "data": {
      "application/vnd.jupyter.widget-view+json": {
       "model_id": "7ff835906e984889a38ecf0fac08ead3",
       "version_major": 2,
       "version_minor": 0
      },
      "text/plain": [
       "HBox(children=(FloatProgress(value=0.0, max=38.0), HTML(value='')))"
      ]
     },
     "metadata": {
      "tags": []
     },
     "output_type": "display_data"
    },
    {
     "name": "stdout",
     "output_type": "stream",
     "text": [
      "\n",
      "lr:  0.0025\n",
      "loss 0.4068724413712819\n"
     ]
    },
    {
     "data": {
      "application/vnd.jupyter.widget-view+json": {
       "model_id": "46a029ab04fb480687d35772b07881d7",
       "version_major": 2,
       "version_minor": 0
      },
      "text/plain": [
       "HBox(children=(FloatProgress(value=0.0, max=10.0), HTML(value='')))"
      ]
     },
     "metadata": {
      "tags": []
     },
     "output_type": "display_data"
    },
    {
     "name": "stderr",
     "output_type": "stream",
     "text": [
      "epoch:  88%|████████▊ | 22/25 [16:15<02:10, 43.57s/it]"
     ]
    },
    {
     "name": "stdout",
     "output_type": "stream",
     "text": [
      "\n",
      "\n",
      "Epoch 022 train_loss: 0.4069 val_loss 0.2623 train_acc 0.8383 val_acc 0.8926\n"
     ]
    },
    {
     "data": {
      "application/vnd.jupyter.widget-view+json": {
       "model_id": "5524b9d1ae2842eea2ae1fdc1287ceee",
       "version_major": 2,
       "version_minor": 0
      },
      "text/plain": [
       "HBox(children=(FloatProgress(value=0.0, max=38.0), HTML(value='')))"
      ]
     },
     "metadata": {
      "tags": []
     },
     "output_type": "display_data"
    },
    {
     "name": "stdout",
     "output_type": "stream",
     "text": [
      "\n",
      "lr:  0.0025\n",
      "loss 0.398746755917867\n"
     ]
    },
    {
     "data": {
      "application/vnd.jupyter.widget-view+json": {
       "model_id": "c49f2589b2404fe3b90f4461766b08bb",
       "version_major": 2,
       "version_minor": 0
      },
      "text/plain": [
       "HBox(children=(FloatProgress(value=0.0, max=10.0), HTML(value='')))"
      ]
     },
     "metadata": {
      "tags": []
     },
     "output_type": "display_data"
    },
    {
     "name": "stderr",
     "output_type": "stream",
     "text": [
      "epoch:  92%|█████████▏| 23/25 [16:59<01:27, 43.52s/it]"
     ]
    },
    {
     "name": "stdout",
     "output_type": "stream",
     "text": [
      "\n",
      "\n",
      "Epoch 023 train_loss: 0.3987 val_loss 0.2526 train_acc 0.8427 val_acc 0.9036\n"
     ]
    },
    {
     "data": {
      "application/vnd.jupyter.widget-view+json": {
       "model_id": "47daed38286c434d9d0fe7ee805badd3",
       "version_major": 2,
       "version_minor": 0
      },
      "text/plain": [
       "HBox(children=(FloatProgress(value=0.0, max=38.0), HTML(value='')))"
      ]
     },
     "metadata": {
      "tags": []
     },
     "output_type": "display_data"
    },
    {
     "name": "stdout",
     "output_type": "stream",
     "text": [
      "\n",
      "lr:  0.0025\n",
      "loss 0.39035551190376283\n"
     ]
    },
    {
     "data": {
      "application/vnd.jupyter.widget-view+json": {
       "model_id": "86bc24f24c704f85bd4805c4c1f1a860",
       "version_major": 2,
       "version_minor": 0
      },
      "text/plain": [
       "HBox(children=(FloatProgress(value=0.0, max=10.0), HTML(value='')))"
      ]
     },
     "metadata": {
      "tags": []
     },
     "output_type": "display_data"
    },
    {
     "name": "stderr",
     "output_type": "stream",
     "text": [
      "epoch:  96%|█████████▌| 24/25 [17:42<00:43, 43.39s/it]"
     ]
    },
    {
     "name": "stdout",
     "output_type": "stream",
     "text": [
      "\n",
      "\n",
      "Epoch 024 train_loss: 0.3904 val_loss 0.2594 train_acc 0.8441 val_acc 0.8961\n"
     ]
    },
    {
     "data": {
      "application/vnd.jupyter.widget-view+json": {
       "model_id": "4dd253cc823d400f9faeff0630ed6666",
       "version_major": 2,
       "version_minor": 0
      },
      "text/plain": [
       "HBox(children=(FloatProgress(value=0.0, max=38.0), HTML(value='')))"
      ]
     },
     "metadata": {
      "tags": []
     },
     "output_type": "display_data"
    },
    {
     "name": "stdout",
     "output_type": "stream",
     "text": [
      "\n",
      "lr:  0.0025\n",
      "loss 0.3856338612238566\n"
     ]
    },
    {
     "data": {
      "application/vnd.jupyter.widget-view+json": {
       "model_id": "5c4d4e1dae9546cb9e7e8b753a1f08fb",
       "version_major": 2,
       "version_minor": 0
      },
      "text/plain": [
       "HBox(children=(FloatProgress(value=0.0, max=10.0), HTML(value='')))"
      ]
     },
     "metadata": {
      "tags": []
     },
     "output_type": "display_data"
    },
    {
     "name": "stderr",
     "output_type": "stream",
     "text": [
      "epoch: 100%|██████████| 25/25 [18:24<00:00, 43.17s/it]"
     ]
    },
    {
     "name": "stdout",
     "output_type": "stream",
     "text": [
      "\n",
      "\n",
      "Epoch 025 train_loss: 0.3856 val_loss 0.2256 train_acc 0.8462 val_acc 0.9118\n"
     ]
    },
    {
     "data": {
      "image/png": "[encoded data removed]",
      "text/plain": [
       "<Figure size 432x288 with 1 Axes>"
      ]
     },
     "metadata": {
      "needs_background": "light",
      "tags": []
     },
     "output_type": "display_data"
    },
    {
     "data": {
      "image/png": "[encoded data removed]",
      "text/plain": [
       "<Figure size 432x288 with 1 Axes>"
      ]
     },
     "metadata": {
      "needs_background": "light",
      "tags": []
     },
     "output_type": "display_data"
    },
    {
     "name": "stderr",
     "output_type": "stream",
     "text": [
      "\r",
      "epoch: 100%|██████████| 25/25 [18:25<00:00, 44.21s/it]\n"
     ]
    }
   ],
   "source": [
    "history = train(train_loader, \n",
    "                  val_loader, \n",
    "                  model=net,\n",
    "                  criterion=nn.CrossEntropyLoss(), \n",
    "                  epochs=25,\n",
    "                  gamma=0.5,\n",
    "                  step_size=10,\n",
    "                  lr=1e-2,\n",
    "                  weight_decay=0\n",
    "                  )"
   ]
  },
  {
   "cell_type": "code",
   "execution_count": 32,
   "metadata": {
    "colab": {
     "base_uri": "https://localhost:8080/",
     "height": 1000
    },
    "colab_type": "code",
    "id": "Kv2x18XzglCc",
    "outputId": "20f75b69-a488-41dc-87b5-971313ff28e3"
   },
   "outputs": [
    {
     "data": {
      "image/png": "[encoded data removed]",
      "text/plain": [
       "<Figure size 1080x648 with 1 Axes>"
      ]
     },
     "metadata": {
      "needs_background": "light",
      "tags": []
     },
     "output_type": "display_data"
    },
    {
     "data": {
      "image/png": "[encoded data removed]",
      "text/plain": [
       "<Figure size 1080x648 with 1 Axes>"
      ]
     },
     "metadata": {
      "needs_background": "light",
      "tags": []
     },
     "output_type": "display_data"
    }
   ],
   "source": [
    "plot_all(history)"
   ]
  },
  {
   "cell_type": "code",
   "execution_count": 0,
   "metadata": {
    "colab": {},
    "colab_type": "code",
    "id": "LHT6iK1NWeaX"
   },
   "outputs": [],
   "source": [
    "def load_weigths(paths, models):\n",
    "    for path, model in zip(paths, models):\n",
    "        model.load_state_dict(torch.load(path))"
   ]
  },
  {
   "cell_type": "code",
   "execution_count": 0,
   "metadata": {
    "colab": {},
    "colab_type": "code",
    "id": "m8p8Z6TcvaNG"
   },
   "outputs": [],
   "source": [
    "def save_weigths(models):\n",
    "    for model in models:\n",
    "        model_weights = copy.deepcopy(model.state_dict())\n",
    "        torch.save(model_weights, \"weigths.pth\")"
   ]
  },
  {
   "cell_type": "code",
   "execution_count": 0,
   "metadata": {
    "colab": {},
    "colab_type": "code",
    "id": "CxykN3yzb244"
   },
   "outputs": [],
   "source": [
    "save_weigths([net])"
   ]
  },
  {
   "cell_type": "code",
   "execution_count": 0,
   "metadata": {
    "colab": {},
    "colab_type": "code",
    "id": "4eEr4mgKtoXM"
   },
   "outputs": [],
   "source": [
    "# Сохранение весов"
   ]
  },
  {
   "cell_type": "code",
   "execution_count": 0,
   "metadata": {
    "colab": {},
    "colab_type": "code",
    "id": "w3xySUhzb_TR"
   },
   "outputs": [],
   "source": [
    "!mv \"/content/weigths.pth\" \"/content/drive/My Drive/textile\""
   ]
  },
  {
   "cell_type": "code",
   "execution_count": 38,
   "metadata": {
    "colab": {
     "base_uri": "https://localhost:8080/",
     "height": 679
    },
    "colab_type": "code",
    "id": "v88C2_bKl2V-",
    "outputId": "a6e9e158-0eeb-434b-941a-69cee2072ad1"
   },
   "outputs": [
    {
     "name": "stdout",
     "output_type": "stream",
     "text": [
      "Accuracy of  good : 90 %\n",
      "Accuracy of color : 99 %\n",
      "Accuracy of   cut : 80 %\n",
      "Accuracy of  hole : 78 %\n",
      "Accuracy of thread : 99 %\n",
      "Accuracy of metal_contamination : 99 %\n",
      "Accuracy of  good : 90 %\n",
      "Accuracy of   bad : 91 %\n",
      "accuracy_score:  0.9117708333333333\n",
      "f1_score:  0.9119579979020854\n"
     ]
    },
    {
     "data": {
      "image/png": "[encoded data removed]",
      "text/plain": [
       "<Figure size 720x504 with 2 Axes>"
      ]
     },
     "metadata": {
      "needs_background": "light",
      "tags": []
     },
     "output_type": "display_data"
    }
   ],
   "source": [
    "show_scores(val_loader, net, DEVICE, n_classes, encoder)"
   ]
  },
  {
   "cell_type": "code",
   "execution_count": 39,
   "metadata": {
    "colab": {
     "base_uri": "https://localhost:8080/",
     "height": 753
    },
    "colab_type": "code",
    "id": "Sp_gSQOvUxwT",
    "outputId": "d9ffcaad-515b-4f60-caf4-2e7277af523a"
   },
   "outputs": [
    {
     "name": "stdout",
     "output_type": "stream",
     "text": [
      "Accuracy of  good : 83 %\n",
      "Accuracy of color : 96 %\n",
      "Accuracy of   cut : 36 %\n",
      "Accuracy of  hole : 43 %\n",
      "Accuracy of thread : 94 %\n",
      "Accuracy of metal_contamination : 98 %\n",
      "Accuracy of  good : 83 %\n",
      "Accuracy of   bad : 66 %\n",
      "accuracy_score:  0.7013541666666666\n",
      "f1_score:  0.7077387612113029\n"
     ]
    },
    {
     "data": {
      "image/png": "[encoded data removed]",
      "text/plain": [
       "<Figure size 720x504 with 2 Axes>"
      ]
     },
     "metadata": {
      "tags": []
     },
     "output_type": "display_data"
    }
   ],
   "source": [
    "show_scores(test_loader, net, DEVICE, n_classes, encoder)"
   ]
  },
  {
   "cell_type": "code",
   "execution_count": null,
   "metadata": {},
   "outputs": [],
   "source": []
  }
 ],
 "metadata": {
  "kernelspec": {
   "display_name": "Python 3",
   "language": "python",
   "name": "python3"
  },
  "language_info": {
   "codemirror_mode": {
    "name": "ipython",
    "version": 3
   },
   "file_extension": ".py",
   "mimetype": "text/x-python",
   "name": "python",
   "nbconvert_exporter": "python",
   "pygments_lexer": "ipython3",
   "version": "3.8.1"
  }
 },
 "nbformat": 4,
 "nbformat_minor": 4
}
